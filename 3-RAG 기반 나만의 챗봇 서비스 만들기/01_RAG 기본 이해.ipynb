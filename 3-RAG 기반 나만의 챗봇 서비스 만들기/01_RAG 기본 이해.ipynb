{
 "cells": [
  {
   "cell_type": "markdown",
   "metadata": {
    "nteract": {
     "transient": {
      "deleting": false
     }
    }
   },
   "source": [
    "# 01_임베딩 3D 시각화"
   ]
  },
  {
   "cell_type": "markdown",
   "metadata": {},
   "source": [
    "# 0. 기본 Library"
   ]
  },
  {
   "cell_type": "code",
   "execution_count": null,
   "metadata": {},
   "outputs": [],
   "source": [
    "import pandas as pd\n",
    "import numpy as np"
   ]
  },
  {
   "cell_type": "markdown",
   "metadata": {
    "nteract": {
     "transient": {
      "deleting": false
     }
    }
   },
   "source": [
    "## 1. OpenAI 라이브러리 설치 확인"
   ]
  },
  {
   "cell_type": "code",
   "execution_count": null,
   "metadata": {
    "gather": {
     "logged": 1674254990318
    },
    "jupyter": {
     "outputs_hidden": true,
     "source_hidden": false
    },
    "nteract": {
     "transient": {
      "deleting": false
     }
    }
   },
   "outputs": [],
   "source": [
    "# !pip install openai python-dotenv ipympl"
   ]
  },
  {
   "cell_type": "markdown",
   "metadata": {
    "nteract": {
     "transient": {
      "deleting": false
     }
    }
   },
   "source": [
    "## 2. OpenAI 정보 읽기"
   ]
  },
  {
   "cell_type": "code",
   "execution_count": null,
   "metadata": {
    "gather": {
     "logged": 1674829434433
    },
    "jupyter": {
     "outputs_hidden": false,
     "source_hidden": false
    },
    "nteract": {
     "transient": {
      "deleting": false
     }
    }
   },
   "outputs": [],
   "source": [
    "import os\n",
    "import openai\n",
    "from dotenv import load_dotenv, find_dotenv\n",
    "dotenv_path = find_dotenv(filename='./.env')\n",
    "load_dotenv(dotenv_path=dotenv_path)\n",
    "\n",
    "openai.api_type = \"azure\"\n",
    "openai.api_version = os.getenv(\"OPENAI_API_VERSION\",\"\").strip()\n",
    "\n",
    "API_KEY = os.getenv(\"OPENAI_API_KEY\",\"\").strip()\n",
    "assert API_KEY, \"ERROR: Azure OpenAI Key is missing\"\n",
    "openai.api_key = API_KEY\n",
    "\n",
    "RESOURCE_ENDPOINT = os.getenv(\"OPENAI_API_BASE\",\"\").strip()\n",
    "assert RESOURCE_ENDPOINT, \"ERROR: Azure OpenAI Endpoint is missing\"\n",
    "assert \"openai.azure.com\" in RESOURCE_ENDPOINT.lower(), \"ERROR: Azure OpenAI Endpoint should be in the form: \\n\\n\\t<your unique endpoint identifier>.openai.azure.com\"\n",
    "openai.api_base = RESOURCE_ENDPOINT\n",
    "\n",
    "deployment_id ='text-embedding-ada-002'"
   ]
  },
  {
   "cell_type": "markdown",
   "metadata": {},
   "source": [
    "## 3. 함수 정의"
   ]
  },
  {
   "cell_type": "code",
   "execution_count": null,
   "metadata": {},
   "outputs": [],
   "source": [
    "def get_embedding(text, deployment_id=deployment_id):\n",
    "    \"\"\" \n",
    "    Get embeddings for an input text from the dataframe. \n",
    "    \"\"\"\n",
    "    result = openai.Embedding.create(\n",
    "      deployment_id=deployment_id,\n",
    "      input=text\n",
    "    )\n",
    "    result = np.array(result[\"data\"][0][\"embedding\"])\n",
    "    return result\n",
    "\n",
    "def vector_similarity(x, y):\n",
    "    \"\"\"\n",
    "    Returns the similarity between two vectors.    \n",
    "    Because OpenAI Embeddings are normalized to length 1, the cosine similarity is the same as the dot product.\n",
    "    \"\"\"\n",
    "    similarity = np.dot(x, y)\n",
    "    return similarity \n",
    "\n",
    "def order_document_sections_by_query_similarity(query, contexts):\n",
    "    \"\"\"\n",
    "    Find the query embedding for the supplied query, and compare it against all of the pre-calculated articles embeddings\n",
    "    to find the most relevant articles. \n",
    "    Return the list of articles, sorted by relevance in descending order.\n",
    "    \"\"\"\n",
    "    query_embedding = get_embedding(query)\n",
    "\n",
    "    document_similarities = sorted(\n",
    "        [(vector_similarity(query_embedding, doc_embedding), doc_index) for doc_index, doc_embedding in contexts.items()], \n",
    "        reverse=True)\n",
    "    \n",
    "    return document_similarities"
   ]
  },
  {
   "cell_type": "markdown",
   "metadata": {
    "nteract": {
     "transient": {
      "deleting": false
     }
    }
   },
   "source": [
    "## 4. 데이터 소스 Embedding"
   ]
  },
  {
   "cell_type": "code",
   "execution_count": null,
   "metadata": {},
   "outputs": [
    {
     "data": {
      "text/html": [
       "<div>\n",
       "<style scoped>\n",
       "    .dataframe tbody tr th:only-of-type {\n",
       "        vertical-align: middle;\n",
       "    }\n",
       "\n",
       "    .dataframe tbody tr th {\n",
       "        vertical-align: top;\n",
       "    }\n",
       "\n",
       "    .dataframe thead th {\n",
       "        text-align: right;\n",
       "    }\n",
       "</style>\n",
       "<table border=\"1\" class=\"dataframe\">\n",
       "  <thead>\n",
       "    <tr style=\"text-align: right;\">\n",
       "      <th></th>\n",
       "      <th>category</th>\n",
       "      <th>filename</th>\n",
       "      <th>title</th>\n",
       "      <th>content</th>\n",
       "    </tr>\n",
       "  </thead>\n",
       "  <tbody>\n",
       "    <tr>\n",
       "      <th>0</th>\n",
       "      <td>business</td>\n",
       "      <td>001.txt</td>\n",
       "      <td>Ad sales boost Time Warner profit</td>\n",
       "      <td>Quarterly profits at US media giant TimeWarne...</td>\n",
       "    </tr>\n",
       "    <tr>\n",
       "      <th>1</th>\n",
       "      <td>business</td>\n",
       "      <td>002.txt</td>\n",
       "      <td>Dollar gains on Greenspan speech</td>\n",
       "      <td>The dollar has hit its highest level against ...</td>\n",
       "    </tr>\n",
       "    <tr>\n",
       "      <th>2</th>\n",
       "      <td>business</td>\n",
       "      <td>003.txt</td>\n",
       "      <td>Yukos unit buyer faces loan claim</td>\n",
       "      <td>The owners of embattled Russian oil giant Yuk...</td>\n",
       "    </tr>\n",
       "    <tr>\n",
       "      <th>3</th>\n",
       "      <td>business</td>\n",
       "      <td>004.txt</td>\n",
       "      <td>High fuel prices hit BA's profits</td>\n",
       "      <td>British Airways has blamed high fuel prices f...</td>\n",
       "    </tr>\n",
       "    <tr>\n",
       "      <th>4</th>\n",
       "      <td>business</td>\n",
       "      <td>005.txt</td>\n",
       "      <td>Pernod takeover talk lifts Domecq</td>\n",
       "      <td>Shares in UK drinks and food firm Allied Dome...</td>\n",
       "    </tr>\n",
       "    <tr>\n",
       "      <th>...</th>\n",
       "      <td>...</td>\n",
       "      <td>...</td>\n",
       "      <td>...</td>\n",
       "      <td>...</td>\n",
       "    </tr>\n",
       "    <tr>\n",
       "      <th>2220</th>\n",
       "      <td>tech</td>\n",
       "      <td>397.txt</td>\n",
       "      <td>BT program to beat dialler scams</td>\n",
       "      <td>BT is introducing two initiatives to help bea...</td>\n",
       "    </tr>\n",
       "    <tr>\n",
       "      <th>2221</th>\n",
       "      <td>tech</td>\n",
       "      <td>398.txt</td>\n",
       "      <td>Spam e-mails tempt net shoppers</td>\n",
       "      <td>Computer users across the world continue to i...</td>\n",
       "    </tr>\n",
       "    <tr>\n",
       "      <th>2222</th>\n",
       "      <td>tech</td>\n",
       "      <td>399.txt</td>\n",
       "      <td>Be careful how you code</td>\n",
       "      <td>A new European directive could put software w...</td>\n",
       "    </tr>\n",
       "    <tr>\n",
       "      <th>2223</th>\n",
       "      <td>tech</td>\n",
       "      <td>400.txt</td>\n",
       "      <td>US cyber security chief resigns</td>\n",
       "      <td>The man making sure US computer networks are ...</td>\n",
       "    </tr>\n",
       "    <tr>\n",
       "      <th>2224</th>\n",
       "      <td>tech</td>\n",
       "      <td>401.txt</td>\n",
       "      <td>Losing yourself in online gaming</td>\n",
       "      <td>Online role playing games are time-consuming,...</td>\n",
       "    </tr>\n",
       "  </tbody>\n",
       "</table>\n",
       "<p>2225 rows × 4 columns</p>\n",
       "</div>"
      ],
      "text/plain": [
       "      category filename                              title   \n",
       "0     business  001.txt  Ad sales boost Time Warner profit  \\\n",
       "1     business  002.txt   Dollar gains on Greenspan speech   \n",
       "2     business  003.txt  Yukos unit buyer faces loan claim   \n",
       "3     business  004.txt  High fuel prices hit BA's profits   \n",
       "4     business  005.txt  Pernod takeover talk lifts Domecq   \n",
       "...        ...      ...                                ...   \n",
       "2220      tech  397.txt   BT program to beat dialler scams   \n",
       "2221      tech  398.txt    Spam e-mails tempt net shoppers   \n",
       "2222      tech  399.txt            Be careful how you code   \n",
       "2223      tech  400.txt    US cyber security chief resigns   \n",
       "2224      tech  401.txt   Losing yourself in online gaming   \n",
       "\n",
       "                                                content  \n",
       "0      Quarterly profits at US media giant TimeWarne...  \n",
       "1      The dollar has hit its highest level against ...  \n",
       "2      The owners of embattled Russian oil giant Yuk...  \n",
       "3      British Airways has blamed high fuel prices f...  \n",
       "4      Shares in UK drinks and food firm Allied Dome...  \n",
       "...                                                 ...  \n",
       "2220   BT is introducing two initiatives to help bea...  \n",
       "2221   Computer users across the world continue to i...  \n",
       "2222   A new European directive could put software w...  \n",
       "2223   The man making sure US computer networks are ...  \n",
       "2224   Online role playing games are time-consuming,...  \n",
       "\n",
       "[2225 rows x 4 columns]"
      ]
     },
     "execution_count": 5,
     "metadata": {},
     "output_type": "execute_result"
    }
   ],
   "source": [
    "df_orig = pd.read_csv(\"../data/bbc-news-data.csv\", delimiter='\\t')\n",
    "df = df_orig.copy()\n",
    "df"
   ]
  },
  {
   "cell_type": "code",
   "execution_count": null,
   "metadata": {},
   "outputs": [
    {
     "data": {
      "text/html": [
       "<div>\n",
       "<style scoped>\n",
       "    .dataframe tbody tr th:only-of-type {\n",
       "        vertical-align: middle;\n",
       "    }\n",
       "\n",
       "    .dataframe tbody tr th {\n",
       "        vertical-align: top;\n",
       "    }\n",
       "\n",
       "    .dataframe thead th {\n",
       "        text-align: right;\n",
       "    }\n",
       "</style>\n",
       "<table border=\"1\" class=\"dataframe\">\n",
       "  <thead>\n",
       "    <tr style=\"text-align: right;\">\n",
       "      <th></th>\n",
       "      <th>category</th>\n",
       "      <th>filename</th>\n",
       "      <th>title</th>\n",
       "      <th>content</th>\n",
       "      <th>embedding</th>\n",
       "    </tr>\n",
       "  </thead>\n",
       "  <tbody>\n",
       "    <tr>\n",
       "      <th>505</th>\n",
       "      <td>business</td>\n",
       "      <td>506.txt</td>\n",
       "      <td>Trial begins of Spain's top banker</td>\n",
       "      <td>The trial of Emilio Botin, the chairman of Sp...</td>\n",
       "      <td>[-0.0185097549110651, -0.017938129603862762, 0...</td>\n",
       "    </tr>\n",
       "    <tr>\n",
       "      <th>506</th>\n",
       "      <td>business</td>\n",
       "      <td>507.txt</td>\n",
       "      <td>UK economy ends year with spurt</td>\n",
       "      <td>The UK economy grew by an estimated 3.1% in 2...</td>\n",
       "      <td>[-0.02052326686680317, -0.023954439908266068, ...</td>\n",
       "    </tr>\n",
       "    <tr>\n",
       "      <th>507</th>\n",
       "      <td>business</td>\n",
       "      <td>508.txt</td>\n",
       "      <td>HealthSouth ex-boss goes on trial</td>\n",
       "      <td>The former head of US medical services firm H...</td>\n",
       "      <td>[-0.006607617251574993, 0.0022741160355508327,...</td>\n",
       "    </tr>\n",
       "    <tr>\n",
       "      <th>508</th>\n",
       "      <td>business</td>\n",
       "      <td>509.txt</td>\n",
       "      <td>Euro firms miss out on optimism</td>\n",
       "      <td>More than 90% of large companies around the w...</td>\n",
       "      <td>[0.0009200896602123976, -0.03431011736392975, ...</td>\n",
       "    </tr>\n",
       "    <tr>\n",
       "      <th>509</th>\n",
       "      <td>business</td>\n",
       "      <td>510.txt</td>\n",
       "      <td>Lacroix label bought by US firm</td>\n",
       "      <td>Luxury goods group LVMH has sold its loss-mak...</td>\n",
       "      <td>[-0.018210988491773605, 0.007721032947301865, ...</td>\n",
       "    </tr>\n",
       "    <tr>\n",
       "      <th>510</th>\n",
       "      <td>entertainment</td>\n",
       "      <td>001.txt</td>\n",
       "      <td>Gallery unveils interactive tree</td>\n",
       "      <td>A Christmas tree that can receive text messag...</td>\n",
       "      <td>[-0.031129341572523117, -0.015320412814617157,...</td>\n",
       "    </tr>\n",
       "    <tr>\n",
       "      <th>511</th>\n",
       "      <td>entertainment</td>\n",
       "      <td>002.txt</td>\n",
       "      <td>Jarre joins fairytale celebration</td>\n",
       "      <td>French musician Jean-Michel Jarre is to perfo...</td>\n",
       "      <td>[-0.004232572857290506, -0.02793629840016365, ...</td>\n",
       "    </tr>\n",
       "    <tr>\n",
       "      <th>512</th>\n",
       "      <td>entertainment</td>\n",
       "      <td>003.txt</td>\n",
       "      <td>Musical treatment for Capra film</td>\n",
       "      <td>The classic film It's A Wonderful Life is to ...</td>\n",
       "      <td>[0.004460970871150494, -0.03234203904867172, -...</td>\n",
       "    </tr>\n",
       "    <tr>\n",
       "      <th>513</th>\n",
       "      <td>entertainment</td>\n",
       "      <td>004.txt</td>\n",
       "      <td>Richard and Judy choose top books</td>\n",
       "      <td>The 10 authors shortlisted for a Richard and ...</td>\n",
       "      <td>[-0.02381858415901661, -0.016464833170175552, ...</td>\n",
       "    </tr>\n",
       "    <tr>\n",
       "      <th>514</th>\n",
       "      <td>entertainment</td>\n",
       "      <td>005.txt</td>\n",
       "      <td>Poppins musical gets flying start</td>\n",
       "      <td>The stage adaptation of children's film Mary ...</td>\n",
       "      <td>[0.00714197289198637, -0.033781010657548904, -...</td>\n",
       "    </tr>\n",
       "    <tr>\n",
       "      <th>515</th>\n",
       "      <td>entertainment</td>\n",
       "      <td>006.txt</td>\n",
       "      <td>Bennett play takes theatre prizes</td>\n",
       "      <td>The History Boys by Alan Bennett has been nam...</td>\n",
       "      <td>[-0.0013433843851089478, -0.007531043607741594...</td>\n",
       "    </tr>\n",
       "    <tr>\n",
       "      <th>516</th>\n",
       "      <td>entertainment</td>\n",
       "      <td>007.txt</td>\n",
       "      <td>Levy tipped for Whitbread prize</td>\n",
       "      <td>Novelist Andrea Levy is favourite to win the ...</td>\n",
       "      <td>[-0.016148928552865982, -0.004394449293613434,...</td>\n",
       "    </tr>\n",
       "    <tr>\n",
       "      <th>517</th>\n",
       "      <td>entertainment</td>\n",
       "      <td>008.txt</td>\n",
       "      <td>West End to honour finest shows</td>\n",
       "      <td>The West End is honouring its finest stars an...</td>\n",
       "      <td>[0.006676368415355682, -0.023700427263975143, ...</td>\n",
       "    </tr>\n",
       "    <tr>\n",
       "      <th>518</th>\n",
       "      <td>entertainment</td>\n",
       "      <td>009.txt</td>\n",
       "      <td>Da Vinci Code is 'lousy history'</td>\n",
       "      <td>The plot of an international bestseller that ...</td>\n",
       "      <td>[-0.024018416181206703, -0.017726009711623192,...</td>\n",
       "    </tr>\n",
       "    <tr>\n",
       "      <th>519</th>\n",
       "      <td>entertainment</td>\n",
       "      <td>010.txt</td>\n",
       "      <td>Uganda bans Vagina Monologues</td>\n",
       "      <td>Uganda's authorities have banned the play The...</td>\n",
       "      <td>[-0.026009133085608482, -0.030233966186642647,...</td>\n",
       "    </tr>\n",
       "  </tbody>\n",
       "</table>\n",
       "</div>"
      ],
      "text/plain": [
       "          category filename                               title   \n",
       "505       business  506.txt  Trial begins of Spain's top banker  \\\n",
       "506       business  507.txt     UK economy ends year with spurt   \n",
       "507       business  508.txt   HealthSouth ex-boss goes on trial   \n",
       "508       business  509.txt     Euro firms miss out on optimism   \n",
       "509       business  510.txt     Lacroix label bought by US firm   \n",
       "510  entertainment  001.txt    Gallery unveils interactive tree   \n",
       "511  entertainment  002.txt   Jarre joins fairytale celebration   \n",
       "512  entertainment  003.txt    Musical treatment for Capra film   \n",
       "513  entertainment  004.txt   Richard and Judy choose top books   \n",
       "514  entertainment  005.txt   Poppins musical gets flying start   \n",
       "515  entertainment  006.txt   Bennett play takes theatre prizes   \n",
       "516  entertainment  007.txt     Levy tipped for Whitbread prize   \n",
       "517  entertainment  008.txt     West End to honour finest shows   \n",
       "518  entertainment  009.txt    Da Vinci Code is 'lousy history'   \n",
       "519  entertainment  010.txt       Uganda bans Vagina Monologues   \n",
       "\n",
       "                                               content   \n",
       "505   The trial of Emilio Botin, the chairman of Sp...  \\\n",
       "506   The UK economy grew by an estimated 3.1% in 2...   \n",
       "507   The former head of US medical services firm H...   \n",
       "508   More than 90% of large companies around the w...   \n",
       "509   Luxury goods group LVMH has sold its loss-mak...   \n",
       "510   A Christmas tree that can receive text messag...   \n",
       "511   French musician Jean-Michel Jarre is to perfo...   \n",
       "512   The classic film It's A Wonderful Life is to ...   \n",
       "513   The 10 authors shortlisted for a Richard and ...   \n",
       "514   The stage adaptation of children's film Mary ...   \n",
       "515   The History Boys by Alan Bennett has been nam...   \n",
       "516   Novelist Andrea Levy is favourite to win the ...   \n",
       "517   The West End is honouring its finest stars an...   \n",
       "518   The plot of an international bestseller that ...   \n",
       "519   Uganda's authorities have banned the play The...   \n",
       "\n",
       "                                             embedding  \n",
       "505  [-0.0185097549110651, -0.017938129603862762, 0...  \n",
       "506  [-0.02052326686680317, -0.023954439908266068, ...  \n",
       "507  [-0.006607617251574993, 0.0022741160355508327,...  \n",
       "508  [0.0009200896602123976, -0.03431011736392975, ...  \n",
       "509  [-0.018210988491773605, 0.007721032947301865, ...  \n",
       "510  [-0.031129341572523117, -0.015320412814617157,...  \n",
       "511  [-0.004232572857290506, -0.02793629840016365, ...  \n",
       "512  [0.004460970871150494, -0.03234203904867172, -...  \n",
       "513  [-0.02381858415901661, -0.016464833170175552, ...  \n",
       "514  [0.00714197289198637, -0.033781010657548904, -...  \n",
       "515  [-0.0013433843851089478, -0.007531043607741594...  \n",
       "516  [-0.016148928552865982, -0.004394449293613434,...  \n",
       "517  [0.006676368415355682, -0.023700427263975143, ...  \n",
       "518  [-0.024018416181206703, -0.017726009711623192,...  \n",
       "519  [-0.026009133085608482, -0.030233966186642647,...  "
      ]
     },
     "execution_count": 6,
     "metadata": {},
     "output_type": "execute_result"
    }
   ],
   "source": [
    "df['embedding'] = ''\n",
    "\n",
    "# for i in range(len(df)):    \n",
    "for i in range(505,520):\n",
    "    try:\n",
    "        embedding = openai.Embedding.create(input=df['content'][i], deployment_id=deployment_id)\n",
    "        df['embedding'][i] = np.array(embedding['data'][0]['embedding'])\n",
    "    except Exception as err:\n",
    "        i\n",
    "        print(f\"Unexpected {err=}, {type(err)=}\")\n",
    "\n",
    "df = df[df['embedding'].apply(lambda x: isinstance(x, (list, np.ndarray)))]\n",
    "\n",
    "df"
   ]
  },
  {
   "cell_type": "markdown",
   "metadata": {},
   "source": [
    "## 5. 질의 기반 검색"
   ]
  },
  {
   "attachments": {},
   "cell_type": "markdown",
   "metadata": {},
   "source": [
    "- 문서를 사전에 임베딩 시켜놓고 나중에 질의\n",
    "- 코사인 각도로 질의와 답변 간 임베딩 거리 상 유사성 확인 가능"
   ]
  },
  {
   "cell_type": "code",
   "execution_count": null,
   "metadata": {},
   "outputs": [],
   "source": [
    "query = 'News about stock market.'"
   ]
  },
  {
   "cell_type": "code",
   "execution_count": null,
   "metadata": {},
   "outputs": [
    {
     "name": "stdout",
     "output_type": "stream",
     "text": [
      "[(0.7809996954868466, 508), (0.7525378803451948, 506), (0.7508318237574978, 507)]\n",
      "similarity score:   0.7809996954868466\n",
      " More than 90% of large companies around the world are highly optimistic about their economic prospects, a survey of 1,300 bosses suggests.  Their biggest worries are not terror threats, but over-regulation, low-cost competition and the wild ups and downs of oil prices. There is one exception: Firms in Western Europe - but not the UK - are lacking confidence after years of slow growth. When business advisers PricewaterhouseCoopers (PwC) conducted the same survey two years ago, nearly 30% of bosses were gloomy about their prospects.  Global business leaders say that they are facing a two-pronged regulatory assault. After a string of corporate scandals in the United States - from Enron to WorldCom - the Sarbanes-Oxley act forces companies to be much more transparent, but doing all the paperwork costs a lot of time and money. Across Europe, meanwhile, all stock exchange-listed companies are currently in the process of moving to new and complex accounting standards called IFRS. Hacking through the red tape can hardly be avoided, but many chief executives around the world appear to have decided on how to deal with low-cost competitors.  Already, about 28% of the bosses polled for the survey say that they have moved parts of their business into low-wage countries, and another 11% plan to do so in the future. Possibly as a result, the worry about low-cost competition has slightly fallen from last year, with just 54% of companies calling it a \"significant threat\" or \"one of the biggest threats\". But PwC's global chief executive, Samuel DiPiazza, said a growing number of companies were also concerned that moves to outsource work to cheaper countries could both hurt their reputation in their home markets and harm the quality of service they provide to their customers.  According to Frank Brown, global advisory leader at PwC , the trend of large companies to have global operations has one clear upside: \"One risk in one region - for example the Middle East - won't kill your business anymore.\" Surprisingly, the survey suggests that the rapid decline of the US dollar is not seen as a huge threat anymore, unlike even a year ago, when it was cited as the third-largest problem. Mr DiPiazza said the interviews with chief executives suggested that companies had \"adjusted\" to the new reality of a euro that buys $1.30 and more, while others had successfully hedged their positions and locked in more favourable exchange rates.    - For the survey, PricewaterhouseCoopers interviewed 1,324 chief executives throughout the world during the last three months of 2004.  \n",
      "\n",
      "similarity score:   0.7525378803451948\n",
      " The UK economy grew by an estimated 3.1% in 2004 after accelerating in the last quarter of the year, says the Office for National Statistics (ONS).  The figure is in line with Treasury and Bank of England forecasts. The ONS says gross domestic product (GDP) rose by a strong 0.7% in the three months to 31 December, compared with 0.5% in the previous quarter. The rise came despite a further decline in production output and the worst Christmas for retailers in decades.  The annual figure marked out the best year since 2000, and was also well ahead of the 2.2% recorded in 2003. Growth in the final three months of 2004 marked the 50th consecutive quarter of expansion. \"On the basis of the latest information the UK has entered 2005 on course to continue its record period of growth,\" said Paul Boateng, chief secretary to the Treasury in a statement.  The ONS said the services sector, which accounts for nearly three-quarters of the UK economy, grew 1.0% in the quarter. The strong services figure was welcomed by analysts, given lacklustre retail sales in December and across the Christmas holiday period. \"The fact that other services components are doing so well suggests to me that we are back to trend (growth) and I am not particularly concerned about any further slowdown,\" said Ross Walker, UK economist at RBS Financial Markets.  However, output in the production sector contracted 0.5%, the second quarterly fall in row and a state of affairs that some economists classify as a recession. However the ONS would not comment on the definition of a recession and whether the manufacturing recovery was over. But Steve Radley, chief economist at the manufacturers' organisation EEF, said: \"These figures remain at odds with what is actually happening on the ground. \"Whilst companies may be experiencing tougher conditions this year, 'recession' is not a word that manufacturers would currently recognise.\" The ONS said a sharp fall in mining and quarrying, which was driven by oil and gas extraction, was primarily responsible for the overall contraction in manufacturing production figures.  Simon Rubinsohn, chief economist at Gerrard, said: \"This outturn (of 0.7%) was well ahead of the market expectations and cast doubt on the scare stories doing the rounds surrounding the current state of the UK economy.\" And he said the GDP figures may help to \"push interest rate expectations a little higher along the curve\". \"The suggestion from the money markets is that the next move is now more likely to be in an upward rather than a downward direction. This is consistent with our own thinking,\" said Mr Rubinsohn. The Bank of England's nine-strong rate-setting committee voted unanimously earlier this month to keep interest rates steady at 4.75%, minutes of the meeting showed on Wednesday.  \n",
      "\n",
      "similarity score:   0.7508318237574978\n",
      " The former head of US medical services firm HealthSouth overstated earnings and assets to boost the company's share price, it was claimed in court.  Richard Scrushy, 52, is accused of \"directing\" a $2.7bn (£1.4bn) accounting fraud at the company he co-founded in Alabama in 1984. Prosecutors said he was motivated by wealth - spending about $200m between 1996 and 2002 while earning much less. Defence lawyers said Mr Scrushy had been deceived by other executives. Several former HealthSouth employees have already pleaded guilty to fraud and are expected to give evidence against Mr Scrushy.  \"We will present evidence that Richard Scrushy knew about the conspiracy, that he participated in the conspiracy and that he profited,\" prosecutor Alice Martin told the court. Mr Scrushy is the first chief executive to be tried for breaching the Sarbanes Oxley Act - a law introduced in the wake of the Enron and WorldCom frauds which obliges corporate bosses to vouch for the accuracy of their companies' results. Among the charges he faces are conspiracy to commit fraud, filing false statements and money laundering. After federal agents raided HealthSouth's offices in March 2003, the company said none of its past financial statements could be relied on. The firm has since reorganised its board and management team and currently operates about 1,400 health clinics.  \n",
      "\n"
     ]
    }
   ],
   "source": [
    "answers = order_document_sections_by_query_similarity(query=query, contexts=df['embedding'])[0:3] # Set to top 3\n",
    "\n",
    "print(answers)\n",
    "\n",
    "# print top 3\n",
    "for answer in answers:\n",
    "    print(f'similarity score:   {answer[0]}')\n",
    "    print(df['content'].loc[answer[1]], '\\n')"
   ]
  },
  {
   "cell_type": "markdown",
   "metadata": {},
   "source": [
    "## 6. Embedding 시각화"
   ]
  },
  {
   "cell_type": "markdown",
   "metadata": {},
   "source": [
    "### Question 시각화 데이터 추가 및 검색 결과 데이터 변경"
   ]
  },
  {
   "cell_type": "code",
   "execution_count": 9,
   "metadata": {},
   "outputs": [],
   "source": [
    "for answer in answers:\n",
    "    df.at[answer[1], 'category'] = df.loc[answer[1], 'category'] + \"/answer\"\n",
    "\n",
    "\n",
    "embedding = openai.Embedding.create(input=query, deployment_id=deployment_id)\n",
    "\n",
    "new_row = {'category': 'Question', 'content': query, 'embedding': np.array(embedding['data'][0]['embedding'])}\n",
    "    \n",
    "new_df = pd.DataFrame([new_row])\n",
    "\n",
    "df = pd.concat([df, new_df], ignore_index=True)"
   ]
  },
  {
   "cell_type": "markdown",
   "metadata": {},
   "source": [
    "### 차원 줄이기"
   ]
  },
  {
   "cell_type": "code",
   "execution_count": 10,
   "metadata": {},
   "outputs": [],
   "source": [
    "if False: # Set to True if using TSNE\n",
    "    from sklearn.manifold import TSNE\n",
    "\n",
    "    # Create a t-SNE model and transform the data\n",
    "    tsne = TSNE(n_components=3, perplexity=15, random_state=42, init='random', learning_rate=200)\n",
    "    vis_dims_tsne = tsne.fit_transform(df['embedding'].to_list())\n",
    "    vis_dims_tsne.shape"
   ]
  },
  {
   "cell_type": "code",
   "execution_count": 11,
   "metadata": {},
   "outputs": [
    {
     "data": {
      "text/plain": [
       "array([[ 0.21497269, -0.05565156,  0.17946016],\n",
       "       [ 0.23318004,  0.24007962, -0.14144674],\n",
       "       [ 0.24933358,  0.0148129 ,  0.25016281],\n",
       "       [ 0.27870648,  0.09678162,  0.0082348 ],\n",
       "       [ 0.1472603 , -0.17498888, -0.06434964],\n",
       "       [-0.05593049, -0.1745074 , -0.23564962],\n",
       "       [-0.09109641, -0.18961528, -0.11713396],\n",
       "       [-0.13628988, -0.126475  ,  0.09113007],\n",
       "       [-0.14870753,  0.23673202, -0.15031481],\n",
       "       [-0.138569  , -0.12466213,  0.06420554],\n",
       "       [-0.24968454,  0.17350542,  0.15132495],\n",
       "       [-0.17204941,  0.19437548, -0.13722851],\n",
       "       [-0.26940748,  0.12767939,  0.18321807],\n",
       "       [-0.02376559, -0.11891207, -0.14633375],\n",
       "       [-0.11855073, -0.16663561,  0.10968414],\n",
       "       [ 0.28059797,  0.04748146, -0.04496352]])"
      ]
     },
     "execution_count": 11,
     "metadata": {},
     "output_type": "execute_result"
    }
   ],
   "source": [
    "from sklearn.decomposition import PCA\n",
    "pca = PCA(n_components=3)\n",
    "vis_dims_pca = pca.fit_transform(df['embedding'].to_list())\n",
    "vis_dims_pca.shape\n",
    "vis_dims_pca"
   ]
  },
  {
   "cell_type": "code",
   "execution_count": 12,
   "metadata": {},
   "outputs": [],
   "source": [
    "df[\"vis_dims_pca\"] = vis_dims_pca.tolist()"
   ]
  },
  {
   "cell_type": "markdown",
   "metadata": {},
   "source": [
    "### 차트 시각화"
   ]
  },
  {
   "cell_type": "code",
   "execution_count": null,
   "metadata": {},
   "outputs": [],
   "source": [
    "%matplotlib widget \n",
    "import matplotlib.pyplot as plt\n",
    "\n",
    "fig = plt.figure(figsize=(10, 10))\n",
    "ax = fig.add_subplot(projection='3d')\n",
    "cmap = plt.get_cmap(\"tab20\")\n",
    "\n",
    "categories = sorted(df['category'].unique())\n",
    "\n",
    "# Plot each sample category individually\n",
    "for i, cat in enumerate(categories):\n",
    "    sub_matrix = np.array(df[df[\"category\"] == cat][\"vis_dims_pca\"].to_list())\n",
    "    x=sub_matrix[:, 0]\n",
    "    y=sub_matrix[:, 1]\n",
    "    z=sub_matrix[:, 2]\n",
    "    colors = [cmap(i/len(categories))] * len(sub_matrix)\n",
    "    _ = ax.scatter(x, y, zs=z, zdir='z', c=colors, label=cat)\n",
    "\n",
    "_ = ax.set_xlabel('x')\n",
    "_ = ax.set_ylabel('y')\n",
    "_ = ax.set_zlabel('z')\n",
    "_ = ax.legend()"
   ]
  },
  {
   "cell_type": "code",
   "execution_count": null,
   "metadata": {},
   "outputs": [],
   "source": []
  }
 ],
 "metadata": {
  "kernel_info": {
   "name": "python310-sdkv2"
  },
  "kernelspec": {
   "display_name": "Python 3",
   "language": "python",
   "name": "python3"
  },
  "language_info": {
   "codemirror_mode": {
    "name": "ipython",
    "version": 3
   },
   "file_extension": ".py",
   "mimetype": "text/x-python",
   "name": "python",
   "nbconvert_exporter": "python",
   "pygments_lexer": "ipython3",
   "version": "3.8.16"
  },
  "microsoft": {
   "host": {
    "AzureML": {
     "notebookHasBeenCompleted": true
    }
   }
  },
  "nteract": {
   "version": "nteract-front-end@1.0.0"
  },
  "vscode": {
   "interpreter": {
    "hash": "f541650a259d3c85c16fa389922248120f711c850d1b246e80025daa1aee6568"
   }
  }
 },
 "nbformat": 4,
 "nbformat_minor": 2
}
