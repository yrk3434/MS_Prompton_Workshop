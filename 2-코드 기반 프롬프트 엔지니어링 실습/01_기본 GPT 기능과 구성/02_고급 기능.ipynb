{
 "cells": [
  {
   "cell_type": "markdown",
   "metadata": {
    "nteract": {
     "transient": {
      "deleting": false
     }
    }
   },
   "source": [
    "# 02_고급 기능"
   ]
  },
  {
   "cell_type": "markdown",
   "metadata": {
    "nteract": {
     "transient": {
      "deleting": false
     }
    }
   },
   "source": [
    "## 1. OpenAI 라이브러리 설치 확인"
   ]
  },
  {
   "cell_type": "code",
   "execution_count": null,
   "metadata": {
    "gather": {
     "logged": 1674254990318
    },
    "jupyter": {
     "outputs_hidden": true,
     "source_hidden": false
    },
    "nteract": {
     "transient": {
      "deleting": false
     }
    }
   },
   "outputs": [],
   "source": [
    "# !pip install openai python-dotenv"
   ]
  },
  {
   "cell_type": "markdown",
   "metadata": {
    "nteract": {
     "transient": {
      "deleting": false
     }
    }
   },
   "source": [
    "## 2. OpenAI 정보 읽기"
   ]
  },
  {
   "cell_type": "code",
   "execution_count": 1,
   "metadata": {
    "gather": {
     "logged": 1674829434433
    },
    "jupyter": {
     "outputs_hidden": false,
     "source_hidden": false
    },
    "nteract": {
     "transient": {
      "deleting": false
     }
    }
   },
   "outputs": [],
   "source": [
    "import os\n",
    "import openai\n",
    "from dotenv import load_dotenv, find_dotenv\n",
    "dotenv_path = find_dotenv(filename='././.env')\n",
    "load_dotenv(dotenv_path=dotenv_path)\n",
    "\n",
    "openai.api_type = \"azure\"\n",
    "openai.api_version = os.getenv(\"OPENAI_API_VERSION\",\"\").strip()\n",
    "\n",
    "API_KEY = os.getenv(\"OPENAI_API_KEY\",\"\").strip()\n",
    "assert API_KEY, \"ERROR: Azure OpenAI Key is missing\"\n",
    "openai.api_key = API_KEY\n",
    "\n",
    "RESOURCE_ENDPOINT = os.getenv(\"OPENAI_API_BASE\",\"\").strip()\n",
    "assert RESOURCE_ENDPOINT, \"ERROR: Azure OpenAI Endpoint is missing\"\n",
    "assert \"openai.azure.com\" in RESOURCE_ENDPOINT.lower(), \"ERROR: Azure OpenAI Endpoint should be in the form: \\n\\n\\t<your unique endpoint identifier>.openai.azure.com\"\n",
    "openai.api_base = RESOURCE_ENDPOINT\n",
    "\n",
    "model=os.getenv('DEPLOYMENT_NAME')"
   ]
  },
  {
   "cell_type": "markdown",
   "metadata": {},
   "source": [
    "## 3. Chain of Thought"
   ]
  },
  {
   "cell_type": "code",
   "execution_count": 2,
   "metadata": {},
   "outputs": [],
   "source": [
    "def call_openai_api(messages, max_token=100, stop=None, n=1, temperature=0.1):\n",
    "    response = openai.ChatCompletion.create(\n",
    "        engine=model,\n",
    "        messages=messages,\n",
    "        temperature=temperature,\n",
    "        max_tokens=max_token,\n",
    "        stop=stop,\n",
    "        n=n,\n",
    "    )\n",
    "    return response"
   ]
  },
  {
   "cell_type": "markdown",
   "metadata": {},
   "source": [
    "#### This prompt gets wrong answer"
   ]
  },
  {
   "cell_type": "code",
   "execution_count": 3,
   "metadata": {},
   "outputs": [
    {
     "name": "stdout",
     "output_type": "stream",
     "text": [
      "8\n"
     ]
    }
   ],
   "source": [
    "PROMPT_ZERO_SHOT = \"\"\"A juggler can juggle 16 balls. Half of the balls are golf balls,\n",
    "and half of the golf balls are blue. How many blue golf balls are there?\n",
    "\"\"\"\n",
    "messages=[\n",
    "    {\"role\": \"user\", \"content\": PROMPT_ZERO_SHOT},\n",
    "    {\"role\": \"assistant\", \"content\": \"The answer (arabic numerals) is \"},\n",
    "]\n",
    "\n",
    "response = call_openai_api(messages, temperature=0, max_token=100)\n",
    "\n",
    "print(response['choices'][0][\"message\"][\"content\"])"
   ]
  },
  {
   "cell_type": "markdown",
   "metadata": {},
   "source": [
    "#### With CoT, the answer is correct"
   ]
  },
  {
   "cell_type": "code",
   "execution_count": 4,
   "metadata": {},
   "outputs": [
    {
     "name": "stdout",
     "output_type": "stream",
     "text": [
      "Step 1: We know that half of the balls are golf balls. So, we can divide the total number of balls by 2 to find the number of golf balls.\n",
      "\n",
      "16 balls / 2 = 8 golf balls\n",
      "\n",
      "Step 2: We also know that half of the golf balls are blue. So, we can divide the number of golf balls by 2 to find the number of blue golf balls.\n",
      "\n",
      "8 golf balls / 2 = 4 blue golf balls\n",
      "\n",
      "Therefore,\n"
     ]
    }
   ],
   "source": [
    "PROMPT_ZERO_SHOT_CoT = \"\"\"Q: A juggler can juggle 16 balls. Half of the balls are golf balls,\n",
    "and half of the golf balls are blue. How many blue golf balls are\n",
    "there?\n",
    "A: Let's think step by step.\n",
    "\"\"\"\n",
    "\n",
    "messages=[\n",
    "    {\"role\": \"user\", \"content\": PROMPT_ZERO_SHOT_CoT},\n",
    "]\n",
    "\n",
    "response = call_openai_api(messages, temperature=0, max_token=100)\n",
    "\n",
    "print(response['choices'][0][\"message\"][\"content\"])"
   ]
  },
  {
   "cell_type": "markdown",
   "metadata": {},
   "source": [
    "#### Can be wrong answer with few-shot learning"
   ]
  },
  {
   "cell_type": "code",
   "execution_count": 5,
   "metadata": {},
   "outputs": [
    {
     "name": "stdout",
     "output_type": "stream",
     "text": [
      "A: If half of the balls are golf balls and half of the golf balls are blue, then there are 8 golf balls in total and 4 of them are blue.\n"
     ]
    }
   ],
   "source": [
    "messages=[\n",
    "    {\"role\": \"system\", \"content\": \"Generate next conversation.\"},\n",
    "    {\"role\": \"user\", \"content\": \"Q: Roger has 5 tennis balss. He buys 2 more cans of tennis balls. Each can has 3 tennis balls. How many tennis balls does Roger have now?\"},\n",
    "    {\"role\": \"assistant\", \"content\": \"A: The answer is 11.\"},\n",
    "    {\"role\": \"user\", \"content\": \"Q: A juggler can juggle 16 balls. Half of the balls are golf balls and half of the golf balls are blue. How many blue golf balls are there?\"},\n",
    "]\n",
    "\n",
    "response = call_openai_api(messages, temperature=0, max_token=100)\n",
    "\n",
    "print(response['choices'][0][\"message\"][\"content\"])"
   ]
  },
  {
   "cell_type": "markdown",
   "metadata": {},
   "source": [
    "#### With few-show CoT, the answer is correct"
   ]
  },
  {
   "cell_type": "code",
   "execution_count": 6,
   "metadata": {},
   "outputs": [
    {
     "name": "stdout",
     "output_type": "stream",
     "text": [
      "If half of the balls are golf balls, then there are 16/2 = <<16/2=8>>8 golf balls.\n",
      "If half of the golf balls are blue, then there are 8/2 = <<8/2=4>>4 blue golf balls. Answer: \\boxed{4}.\n"
     ]
    }
   ],
   "source": [
    "messages=[\n",
    "    {\"role\": \"user\", \"content\": \"\"\"Roger has 5 tennis balls. He buys 2 more cans of tennis balls. Each can has 3 tennis balls. How many tennis balls does he have now?\"\"\"},\n",
    "    {\"role\": \"assistant\", \"content\": \"\"\"Roger started with 5 balls.\\n 2 cans of 3 tennis balls each is 6 tennis balls.\\n 5 + 6 = 11. \\n The answer is 11.\"\"\"},\n",
    "    {\"role\": \"user\", \"content\": \"\"\"A juggler can juggle 16 balls. Half of the balls are golf balls, and half of the golf balls are blue. How many blue golf balls are there?\"\"\"},\n",
    "]\n",
    "\n",
    "response = call_openai_api(messages, temperature=0, max_token=100)\n",
    "\n",
    "print(response['choices'][0][\"message\"][\"content\"])"
   ]
  },
  {
   "cell_type": "markdown",
   "metadata": {
    "nteract": {
     "transient": {
      "deleting": false
     }
    }
   },
   "source": [
    "## 4. SQL"
   ]
  },
  {
   "cell_type": "markdown",
   "metadata": {},
   "source": [
    "### SQL 생성"
   ]
  },
  {
   "cell_type": "code",
   "execution_count": 7,
   "metadata": {},
   "outputs": [
    {
     "name": "stdout",
     "output_type": "stream",
     "text": [
      "### Postgres SQL tables, with their properties:\n",
      "#\n",
      "# Employee(id, name, department_id)\n",
      "# Department(id, name, address)\n",
      "# Salary_Payments(id, employee_id, amount, date)\n",
      "#\n",
      "### A query to list the names of the departments which employed more than 10 employees in the last 3 months\n",
      "\n",
      " query: \n"
     ]
    }
   ],
   "source": [
    "prompt = \"### Postgres SQL tables, with their properties:\\n#\\n# Employee(id, name, department_id)\\n# Department(id, name, address)\\n# Salary_Payments(id, employee_id, amount, date)\\n#\\n### A query to list the names of the departments which employed more than 10 employees in the last 3 months\\n\\n query: \"\n",
    "print(prompt)"
   ]
  },
  {
   "cell_type": "code",
   "execution_count": 8,
   "metadata": {
    "gather": {
     "logged": 1674494935186
    },
    "jupyter": {
     "outputs_hidden": false,
     "source_hidden": false
    },
    "nteract": {
     "transient": {
      "deleting": false
     }
    }
   },
   "outputs": [
    {
     "name": "stdout",
     "output_type": "stream",
     "text": [
      "SELECT d.name\n",
      "FROM Department d\n",
      "WHERE d.id IN (\n",
      "    SELECT e.department_id\n",
      "    FROM Employee e\n",
      "    WHERE e.id IN (\n",
      "        SELECT sp.employee_id\n",
      "        FROM Salary_Payments sp\n",
      "        WHERE sp.date >= CURRENT_DATE - INTERVAL '3 months'\n",
      "        GROUP BY sp.employee_id\n",
      "        HAVING COUNT(sp.employee_id) > 10\n",
      "    )\n",
      ")\n"
     ]
    }
   ],
   "source": [
    "response = openai.ChatCompletion.create(\n",
    "  engine=model,\n",
    "  messages = [{\"role\":\"system\", \"content\":\"You are a helpful assistant.\"},\n",
    "               {\"role\":\"user\",\"content\": prompt}],\n",
    "  temperature=0,\n",
    "  max_tokens=150,\n",
    "  top_p=1,\n",
    "  frequency_penalty=0,\n",
    "  presence_penalty=0,\n",
    "  stop=[\"#\",\";\"])\n",
    "print(response['choices'][0]['message']['content'])"
   ]
  },
  {
   "cell_type": "markdown",
   "metadata": {
    "nteract": {
     "transient": {
      "deleting": false
     }
    }
   },
   "source": [
    "### SQL 해석"
   ]
  },
  {
   "cell_type": "code",
   "execution_count": 9,
   "metadata": {
    "gather": {
     "logged": 1674494940872
    },
    "jupyter": {
     "outputs_hidden": false,
     "source_hidden": false
    },
    "nteract": {
     "transient": {
      "deleting": false
     }
    }
   },
   "outputs": [
    {
     "name": "stdout",
     "output_type": "stream",
     "text": [
      "Can you explain what does this code do?\n",
      "#\n",
      "# ###\n",
      "   Code:\n",
      "   SELECT d.name FROM Department d JOIN Employee e ON d.id = e.department_id WHERE e.id IN (SELECT employee_id FROM Salary_Payments WHERE date > now() - interval '3 months') GROUP BY d.name HAVING COUNT(*) > 10\n",
      "#\n",
      "#   Answer:\n",
      "# \n"
     ]
    }
   ],
   "source": [
    "code = \"Can you explain what does this code do?\\n#\\n# ###\\n\\\n",
    "   Code:\\n\\\n",
    "   SELECT d.name FROM Department d JOIN Employee e ON d.id = e.department_id WHERE e.id IN (SELECT employee_id FROM Salary_Payments WHERE date > now() - interval '3 months') GROUP BY d.name HAVING COUNT(*) > 10\\n#\\n#\\\n",
    "   Answer:\\n# \"\n",
    "print(code)"
   ]
  },
  {
   "cell_type": "code",
   "execution_count": 10,
   "metadata": {},
   "outputs": [
    {
     "name": "stdout",
     "output_type": "stream",
     "text": [
      "This code is a SQL query that retrieves the names of departments that have more than 10 employees who have received salary payments in the last 3 months. \n",
      "\n",
      "Here is a breakdown of the code:\n",
      "\n",
      "1. The query starts with the SELECT statement, which specifies that we want to retrieve the \"name\" column from the \"Department\" table.\n",
      "\n",
      "2. The FROM clause specifies that we are selecting from the \"Department\" table.\n",
      "\n",
      "3. The JOIN keyword is used to combine the \"Department\" table with the \"Employee\" table. The ON clause specifies the condition for the join, which is that the \"id\" column in the \"Department\" table must match the \"department_id\" column in the \"Employee\" table.\n",
      "\n",
      "4. The WHERE clause filters the results based on a condition. In this case, it checks if the \"id\" column in the \"Employee\" table is present in the subquery.\n",
      "\n",
      "5. The subquery selects the \"employee_id\" column from the \"Salary_Payments\" table where the \"date\" column is greater than the current date minus 3 months.\n",
      "\n",
      "6. The GROUP BY clause groups the results by the \"name\" column in the \"Department\" table.\n",
      "\n",
      "7. The HAVING clause filters the results based on a condition. In this case, it checks if the count of rows in each group is greater than 10.\n",
      "\n",
      "Overall, this code retrieves the names of departments that have more than 10 employees who have received salary payments in the last 3 months.\n"
     ]
    }
   ],
   "source": [
    "response = openai.ChatCompletion.create(\n",
    "  engine=model,\n",
    "  messages = [{\"role\":\"system\", \"content\":\"You are a helpful assistant.\"},\n",
    "               {\"role\":\"user\",\"content\": code}],\n",
    "  temperature=0,\n",
    "  max_tokens=500,\n",
    "  top_p=1,\n",
    "  frequency_penalty=0,\n",
    "  presence_penalty=0,\n",
    "  stop=[\"#\",\";\"])\n",
    "print(response['choices'][0]['message']['content'])"
   ]
  },
  {
   "cell_type": "markdown",
   "metadata": {},
   "source": [
    "### SQL 실제 사용 사례"
   ]
  },
  {
   "cell_type": "code",
   "execution_count": 11,
   "metadata": {},
   "outputs": [],
   "source": [
    "query = '''\n",
    "Given the following SQL tables, your job is to write queries given a user’s request.\n",
    "\n",
    "CREATE TABLE Orders (\n",
    "  OrderID int,\n",
    "  CustomerID int,\n",
    "  OrderDate datetime,\n",
    "  OrderTime varchar(8),\n",
    "  PRIMARY KEY (OrderID)\n",
    ");\n",
    "\n",
    "CREATE TABLE OrderDetails (\n",
    "  OrderDetailID int,\n",
    "  OrderID int,\n",
    "  ProductID int,\n",
    "  Quantity int,\n",
    "  PRIMARY KEY (OrderDetailID)\n",
    ");\n",
    "\n",
    "CREATE TABLE Products (\n",
    "  ProductID int,\n",
    "  ProductName varchar(50),\n",
    "  Category varchar(50),\n",
    "  UnitPrice decimal(10, 2),\n",
    "  Stock int,\n",
    "  PRIMARY KEY (ProductID)\n",
    ");\n",
    "\n",
    "CREATE TABLE Customers (\n",
    "  CustomerID int,\n",
    "  FirstName varchar(50),\n",
    "  LastName varchar(50),\n",
    "  Email varchar(100),\n",
    "  Phone varchar(20),\n",
    "  PRIMARY KEY (CustomerID)\n",
    ");\n",
    "'''"
   ]
  },
  {
   "cell_type": "code",
   "execution_count": 12,
   "metadata": {},
   "outputs": [
    {
     "name": "stdout",
     "output_type": "stream",
     "text": [
      "SELECT AVG(total_order_value) AS average_total_order_value\n",
      "FROM (\n",
      "  SELECT o.OrderID, SUM(od.Quantity * p.UnitPrice) AS total_order_value\n",
      "  FROM Orders o\n",
      "  INNER JOIN OrderDetails od ON o.OrderID = od.OrderID\n",
      "  INNER JOIN Products p ON od.ProductID = p.ProductID\n",
      "  WHERE o.OrderDate = '2023-04-01'\n",
      "  GROUP BY o.OrderID\n",
      ") AS subquery\n"
     ]
    }
   ],
   "source": [
    "request1 = \"Write a SQL query which computes the average total order value for all orders on 2023-04-01.\"\n",
    "\n",
    "response = openai.ChatCompletion.create(\n",
    "  engine=model,\n",
    "  messages = [{\"role\":\"system\", \"content\":query},\n",
    "               {\"role\":\"user\",\"content\": request1}],\n",
    "  temperature=0,\n",
    "  max_tokens=500,\n",
    "  top_p=1,\n",
    "  frequency_penalty=0,\n",
    "  presence_penalty=0,\n",
    "  stop=[\"#\",\";\"])\n",
    "print(response['choices'][0]['message']['content'])"
   ]
  },
  {
   "cell_type": "code",
   "execution_count": 13,
   "metadata": {},
   "outputs": [
    {
     "name": "stdout",
     "output_type": "stream",
     "text": [
      "1. 주문한 고객의 성명과 이메일을 조회하시오.\n",
      "```sql\n",
      "SELECT FirstName, LastName, Email\n",
      "FROM Customers\n",
      "WHERE CustomerID IN (\n",
      "  SELECT CustomerID\n",
      "  FROM Orders\n",
      ")\n",
      "```\n",
      "\n",
      "2. 주문한 상품의 카테고리와 수량을 조회하시오.\n",
      "```sql\n",
      "SELECT Category, Quantity\n",
      "FROM Products\n",
      "JOIN OrderDetails ON Products.ProductID = OrderDetails.ProductID\n",
      "```\n",
      "\n",
      "3. 주문일자가 특정 날짜 이후인 주문의 주문번호와 주문일자를 조회하시오.\n",
      "```sql\n",
      "SELECT OrderID, OrderDate\n",
      "FROM Orders\n",
      "WHERE OrderDate > 'YYYY-MM-DD'\n",
      "```\n",
      "\n",
      "4. 주문한 상품의 재고량이 특정 수량보다 적은 상품의 상품명과 재고량을 조회하시오.\n",
      "```sql\n",
      "SELECT ProductName, Stock\n",
      "FROM Products\n",
      "WHERE Stock < 'quantity'\n",
      "```\n",
      "\n",
      "5. 특정 고객의 주문한 상품의 주문일자와 주문시간을 조회하시오.\n",
      "```sql\n",
      "SELECT OrderDate, OrderTime\n",
      "FROM Orders\n",
      "WHERE CustomerID = 'customerID'\n",
      "```\n"
     ]
    }
   ],
   "source": [
    "request2 = \"한글로 번역:create the 5 questions to answer from tables and show the query\"\n",
    "\n",
    "response = openai.ChatCompletion.create(\n",
    "  engine=model,\n",
    "  messages = [{\"role\":\"system\", \"content\":query},\n",
    "               {\"role\":\"user\",\"content\": request2}],\n",
    "  temperature=0,\n",
    "  max_tokens=500,\n",
    "  top_p=1,\n",
    "  frequency_penalty=0,\n",
    "  presence_penalty=0,\n",
    "  stop=[\"#\",\";\"])\n",
    "print(response['choices'][0]['message']['content'])"
   ]
  },
  {
   "cell_type": "markdown",
   "metadata": {},
   "source": [
    "## 5. Python algorithm"
   ]
  },
  {
   "cell_type": "markdown",
   "metadata": {},
   "source": [
    "### Generate problem statement"
   ]
  },
  {
   "cell_type": "code",
   "execution_count": 14,
   "metadata": {},
   "outputs": [],
   "source": [
    "response = openai.ChatCompletion.create(\n",
    "    engine=model,\n",
    "    messages=[\n",
    "        {\n",
    "            \"role\": \"user\", \"content\": \"Generate a coding challenge problem statement with description, \"\n",
    "                                       \"input format, output format, constraints, and example inputs and \"\n",
    "                                       \"outputs.\"\n",
    "        },\n",
    "        {\n",
    "            \"role\": \"assistant\",\n",
    "            \"content\": \"Generate a set of input/output examples with inputs and outputs that can be parsed \"\n",
    "                       \"using ast.literal_eval() in Python. The input/output format must adhere to the \"\n",
    "                       \"following structure:\\n\\n1. In: [input_1]\\nOut: [output_1]\\n2. In: [input_2]\\nOut: [\"\n",
    "                       \"output_2]\\n...\\n\\nPlease ensure that 'In:' and 'Out:' keywords are only used to \"\n",
    "                       \"denote the input and output examples in the response. Additionally, provide examples \"\n",
    "                       \"with a variety of Python literals, including tuples, dictionaries, lists, booleans, \"\n",
    "                       \"and numerical values. Verify that the generated statement contains the 'In:' and \"\n",
    "                       \"'Out:' test cases before returning the result.\"\n",
    "        }\n",
    "    ],\n",
    "    temperature=1,\n",
    "    max_tokens=400,\n",
    "    top_p=1,\n",
    "    frequency_penalty=0,\n",
    "    presence_penalty=0,\n",
    ")"
   ]
  },
  {
   "cell_type": "code",
   "execution_count": 15,
   "metadata": {},
   "outputs": [
    {
     "name": "stdout",
     "output_type": "stream",
     "text": [
      "Problem Statement:\n",
      "Implement a function that takes a list of tuples as input and returns a list of dictionaries. Each tuple in the input list represents a person's information, and the dictionaries in the output list should contain the same information but structured differently.\n",
      "\n",
      "Input Format:\n",
      "A list of tuples, where each tuple contains the details of a person. The details include the person's name (a string), age (an integer), and favorite color (a string).\n",
      "\n",
      "Output Format:\n",
      "A list of dictionaries, where each dictionary represents a person's information. The dictionaries should have the following key-value pairs:\n",
      "- 'name': the person's name (a string)\n",
      "- 'age': the person's age (an integer)\n",
      "- 'color': the person's favorite color (a string)\n",
      "\n",
      "Constraints:\n",
      "- The input list will always contain at least one tuple (i.e., one person's information).\n",
      "- The name will be a non-empty string (length <= 100).\n",
      "- The age will be a positive integer (1 <= age <= 100).\n",
      "- The color will be a non-empty string (length <= 100).\n",
      "\n",
      "Example:\n",
      "\n",
      "Input:\n",
      "[( 'Alice' , 25, 'red' ), ( 'Bob' , 33, 'green' ), ( 'Charlie' , 42, 'blue' )]\n",
      "\n",
      "Output:\n",
      "[{'name': 'Alice', 'age': 25, 'color': 'red'}, {'name': 'Bob', 'age': 33, 'color': 'green'}, {'name': 'Charlie', 'age': 42, 'color': 'blue'}]\n"
     ]
    }
   ],
   "source": [
    "problem_statement = response.choices[0].message.content.strip()\n",
    "print(problem_statement)"
   ]
  },
  {
   "cell_type": "markdown",
   "metadata": {},
   "source": [
    "### Generate algorithm"
   ]
  },
  {
   "cell_type": "code",
   "execution_count": 16,
   "metadata": {},
   "outputs": [],
   "source": [
    "response = openai.ChatCompletion.create(\n",
    "    engine=model,\n",
    "    messages=[{\n",
    "        \"role\": \"user\",\n",
    "        \"content\": f\"{problem_statement}\\n\\nPlease provide a Python function to solve the above problem. The \"\n",
    "                   \"generated code should be complied without any additional modification. So, no comments, \"\n",
    "                   \"markdown, code fence, etc in the response.\"\n",
    "    }],\n",
    "    temperature=0.3,\n",
    "    max_tokens=350,\n",
    "    top_p=1,\n",
    "    frequency_penalty=0,\n",
    "    presence_penalty=0,\n",
    ")"
   ]
  },
  {
   "cell_type": "code",
   "execution_count": 17,
   "metadata": {},
   "outputs": [
    {
     "name": "stdout",
     "output_type": "stream",
     "text": [
      "def convert_to_dict(persons):\n",
      "    result = []\n",
      "    for person in persons:\n",
      "        person_dict = {'name': person[0], 'age': person[1], 'color': person[2]}\n",
      "        result.append(person_dict)\n",
      "    return result\n"
     ]
    }
   ],
   "source": [
    "solution_code = response.choices[0].message.content.strip()\n",
    "print(solution_code)"
   ]
  },
  {
   "cell_type": "code",
   "execution_count": null,
   "metadata": {},
   "outputs": [],
   "source": []
  }
 ],
 "metadata": {
  "kernel_info": {
   "name": "python310-sdkv2"
  },
  "kernelspec": {
   "display_name": "Python 3",
   "language": "python",
   "name": "python3"
  },
  "language_info": {
   "codemirror_mode": {
    "name": "ipython",
    "version": 3
   },
   "file_extension": ".py",
   "mimetype": "text/x-python",
   "name": "python",
   "nbconvert_exporter": "python",
   "pygments_lexer": "ipython3",
   "version": "3.8.16"
  },
  "microsoft": {
   "host": {
    "AzureML": {
     "notebookHasBeenCompleted": true
    }
   }
  },
  "nteract": {
   "version": "nteract-front-end@1.0.0"
  },
  "vscode": {
   "interpreter": {
    "hash": "f541650a259d3c85c16fa389922248120f711c850d1b246e80025daa1aee6568"
   }
  }
 },
 "nbformat": 4,
 "nbformat_minor": 2
}
